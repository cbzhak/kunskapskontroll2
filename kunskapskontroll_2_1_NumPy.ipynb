{
 "cells": [
  {
   "cell_type": "markdown",
   "id": "dacf74e6",
   "metadata": {},
   "source": [
    "# NumPy"
   ]
  },
  {
   "cell_type": "markdown",
   "id": "01b2bf34",
   "metadata": {},
   "source": [
    "Read the links: https://numpy.org/doc/stable/user/quickstart.html  and https://numpy.org/doc/stable/user/basics.broadcasting.html  before solving the exercises. "
   ]
  },
  {
   "cell_type": "code",
   "execution_count": 1,
   "id": "1f79e4a6",
   "metadata": {},
   "outputs": [],
   "source": [
    "import numpy as np"
   ]
  },
  {
   "cell_type": "markdown",
   "id": "7dae6889",
   "metadata": {},
   "source": [
    "### Print out the dimension (number of axes), shape, size and the datatype of the matrix A."
   ]
  },
  {
   "cell_type": "code",
   "execution_count": 2,
   "id": "7b3678cd",
   "metadata": {},
   "outputs": [],
   "source": [
    "A = np.arange(1, 16).reshape(3,5)"
   ]
  },
  {
   "cell_type": "code",
   "execution_count": 3,
   "id": "31d39235",
   "metadata": {},
   "outputs": [
    {
     "name": "stdout",
     "output_type": "stream",
     "text": [
      "Dimension (ndim): 2\n",
      "Shape: (3, 5)\n",
      "Size: 15\n",
      "Datatype: int64\n"
     ]
    }
   ],
   "source": [
    "print(\"Dimension (ndim):\", A.ndim)\n",
    "print(\"Shape:\", A.shape)\n",
    "print(\"Size:\", A.size)\n",
    "print(\"Datatype:\", A.dtype)"
   ]
  },
  {
   "cell_type": "markdown",
   "id": "e56d2a96",
   "metadata": {},
   "source": [
    "### Do the following computations on the matrices B and C: \n",
    "* Elementwise subtraction. \n",
    "* Elementwise multiplication. \n",
    "* Matrix multiplication (by default you should use the @ operator)."
   ]
  },
  {
   "cell_type": "code",
   "execution_count": 4,
   "id": "a7053fbb",
   "metadata": {},
   "outputs": [
    {
     "name": "stdout",
     "output_type": "stream",
     "text": [
      "[[1 2 3]\n",
      " [4 5 6]\n",
      " [7 8 9]]\n",
      "\n",
      "[[2. 2. 2.]\n",
      " [2. 2. 2.]\n",
      " [2. 2. 2.]]\n"
     ]
    }
   ],
   "source": [
    "B = np.arange(1, 10).reshape(3, 3)\n",
    "C = np.ones((3, 3))*2\n",
    "\n",
    "print(B)\n",
    "print()\n",
    "print(C)"
   ]
  },
  {
   "cell_type": "code",
   "execution_count": 5,
   "id": "3cd794ae",
   "metadata": {},
   "outputs": [
    {
     "name": "stdout",
     "output_type": "stream",
     "text": [
      "Elementwise subtraction:\n",
      " [[-1.  0.  1.]\n",
      " [ 2.  3.  4.]\n",
      " [ 5.  6.  7.]]\n",
      "Elementwise multiplication:\n",
      " [[ 2.  4.  6.]\n",
      " [ 8. 10. 12.]\n",
      " [14. 16. 18.]]\n",
      "Matrix multiplication:\n",
      " [[12. 12. 12.]\n",
      " [30. 30. 30.]\n",
      " [48. 48. 48.]]\n"
     ]
    }
   ],
   "source": [
    "print(\"Elementwise subtraction:\\n\", B - C)\n",
    "print(\"Elementwise multiplication:\\n\", B * C)\n",
    "print(\"Matrix multiplication:\\n\", B @ C)"
   ]
  },
  {
   "cell_type": "markdown",
   "id": "96030d53",
   "metadata": {},
   "source": [
    "### Do the following calculations on the matrix:\n",
    "* Exponentiate each number elementwise (use the np.exp function).\n",
    "\n",
    "* Calculate the minimum value in the whole matrix. \n",
    "* Calculcate the minimum value in each row. \n",
    "* Calculcate the minimum value in each column. \n",
    "\n",
    "\n",
    "* Find the index value for the minimum value in the whole matrix (hint: use np.argmin).\n",
    "* Find the index value for the minimum value in each row (hint: use np.argmin).\n",
    "\n",
    "\n",
    "* Calculate the sum for all elements.\n",
    "* Calculate the mean for each column. \n",
    "* Calculate the median for each column. "
   ]
  },
  {
   "cell_type": "code",
   "execution_count": 6,
   "id": "f8a9166b",
   "metadata": {},
   "outputs": [
    {
     "name": "stdout",
     "output_type": "stream",
     "text": [
      "[[1 2 3]\n",
      " [4 5 6]\n",
      " [7 8 9]]\n"
     ]
    }
   ],
   "source": [
    "B = np.arange(1, 10).reshape(3, 3)\n",
    "print(B)"
   ]
  },
  {
   "cell_type": "code",
   "execution_count": 7,
   "id": "f03f24f7",
   "metadata": {},
   "outputs": [
    {
     "name": "stdout",
     "output_type": "stream",
     "text": [
      "Exponentiated elements:\n",
      " [[2.71828183e+00 7.38905610e+00 2.00855369e+01]\n",
      " [5.45981500e+01 1.48413159e+02 4.03428793e+02]\n",
      " [1.09663316e+03 2.98095799e+03 8.10308393e+03]]\n",
      "Minimum value in the whole matrix): 1\n",
      "Minimum value in each row: [1 4 7]\n",
      "Minimum value in each each column: [1 2 3]\n",
      "Index value for the minimum value in the whole matrix: 0\n",
      "index value for the minimum value in each row: [0 0 0]\n",
      "Sum of all elements: 45\n",
      "Mean for each column: [4. 5. 6.]\n",
      "Median for each column: [4. 5. 6.]\n"
     ]
    }
   ],
   "source": [
    "print(\"Exponentiated elements:\\n\", np.exp(B))\n",
    "print(\"Minimum value in the whole matrix):\", np.min(B))\n",
    "print(\"Minimum value in each row:\", np.min(B, axis=1))\n",
    "print(\"Minimum value in each each column:\", np.min(B, axis=0))\n",
    "print(\"Index value for the minimum value in the whole matrix:\", np.argmin(B))\n",
    "print(\"index value for the minimum value in each row:\", np.argmin(B, axis=1))\n",
    "print(\"Sum of all elements:\", np.sum(B))\n",
    "print(\"Mean for each column:\", np.mean(B, axis=0))\n",
    "print(\"Median for each column:\", np.median(B, axis=0))"
   ]
  },
  {
   "cell_type": "markdown",
   "id": "541eb7ba",
   "metadata": {},
   "source": [
    "### What does it mean when you provide fewer indices than axes when slicing? See example below."
   ]
  },
  {
   "cell_type": "code",
   "execution_count": 8,
   "id": "9c8abf56",
   "metadata": {},
   "outputs": [
    {
     "name": "stdout",
     "output_type": "stream",
     "text": [
      "[[ 1  2  3  4  5]\n",
      " [ 6  7  8  9 10]\n",
      " [11 12 13 14 15]]\n"
     ]
    }
   ],
   "source": [
    "A = np.arange(1, 16).reshape(3,5)\n",
    "print(A)"
   ]
  },
  {
   "cell_type": "code",
   "execution_count": 9,
   "id": "69415f7b",
   "metadata": {},
   "outputs": [
    {
     "data": {
      "text/plain": [
       "array([ 6,  7,  8,  9, 10])"
      ]
     },
     "execution_count": 9,
     "metadata": {},
     "output_type": "execute_result"
    }
   ],
   "source": [
    "A[1]"
   ]
  },
  {
   "cell_type": "markdown",
   "id": "6c53541b",
   "metadata": {},
   "source": [
    "**Answer:**"
   ]
  },
  {
   "cell_type": "markdown",
   "id": "e814c5c9-9b5d-4704-ad17-40b57d6c7f58",
   "metadata": {},
   "source": [
    "När man anger färre index än antal axlar, returnerar NumPy hela delarrayen längs de återstående axlarna.\n",
    "I exemplet A[1] hämtas rad 1 i matrisen, alltså hela den raden som en endimensionell array.\n",
    "Det är samma sak som att skriva A[1, :]."
   ]
  },
  {
   "cell_type": "markdown",
   "id": "6652d0c9",
   "metadata": {},
   "source": [
    "### Iterating over multidimensional arrays is done with respect to the first axis, so in the example below we iterate trough the rows. If you would like to iterate through the array *elementwise*, how would you do that?"
   ]
  },
  {
   "cell_type": "code",
   "execution_count": 10,
   "id": "9459864f",
   "metadata": {},
   "outputs": [],
   "source": [
    "A = np.arange(1, 16).reshape(3,5)"
   ]
  },
  {
   "cell_type": "code",
   "execution_count": 11,
   "id": "a671bb5a",
   "metadata": {},
   "outputs": [
    {
     "name": "stdout",
     "output_type": "stream",
     "text": [
      "[1 2 3 4 5]\n",
      "[ 6  7  8  9 10]\n",
      "[11 12 13 14 15]\n"
     ]
    }
   ],
   "source": [
    "for i in A:\n",
    "    print(i)"
   ]
  },
  {
   "cell_type": "markdown",
   "id": "e88bc033-08fb-44d8-852f-8d6e98f4574f",
   "metadata": {},
   "source": [
    "För att iterera element för element i en flerdimensionell array kan man använda .flat eller np.nditer():"
   ]
  },
  {
   "cell_type": "code",
   "execution_count": 12,
   "id": "ce6a6a35-7d30-4403-ab49-29bf40983f06",
   "metadata": {},
   "outputs": [
    {
     "name": "stdout",
     "output_type": "stream",
     "text": [
      "1\n",
      "2\n",
      "3\n",
      "4\n",
      "5\n",
      "6\n",
      "7\n",
      "8\n",
      "9\n",
      "10\n",
      "11\n",
      "12\n",
      "13\n",
      "14\n",
      "15\n"
     ]
    }
   ],
   "source": [
    "for i in A.flat:\n",
    "    print(i)"
   ]
  },
  {
   "cell_type": "markdown",
   "id": "c68e7b78-fb48-490d-b2a2-37036be672b3",
   "metadata": {},
   "source": [
    "eller"
   ]
  },
  {
   "cell_type": "code",
   "execution_count": 13,
   "id": "9855cbfb-090e-49e7-995e-4f173dd39e0e",
   "metadata": {},
   "outputs": [
    {
     "name": "stdout",
     "output_type": "stream",
     "text": [
      "1\n",
      "2\n",
      "3\n",
      "4\n",
      "5\n",
      "6\n",
      "7\n",
      "8\n",
      "9\n",
      "10\n",
      "11\n",
      "12\n",
      "13\n",
      "14\n",
      "15\n"
     ]
    }
   ],
   "source": [
    "for i in np.nditer(A):\n",
    "    print(i)"
   ]
  },
  {
   "cell_type": "markdown",
   "id": "608a2583",
   "metadata": {},
   "source": [
    "### Explain what the code below does. More specifically, b has three axes - what does this mean? "
   ]
  },
  {
   "cell_type": "code",
   "execution_count": 14,
   "id": "f8f9b26f",
   "metadata": {},
   "outputs": [
    {
     "name": "stdout",
     "output_type": "stream",
     "text": [
      "[ 0  1  2  3  4  5  6  7  8  9 10 11 12 13 14 15 16 17 18 19 20 21 22 23\n",
      " 24 25 26 27 28 29]\n",
      "\n",
      "[[[ 0  1  2  3  4]\n",
      "  [ 5  6  7  8  9]\n",
      "  [10 11 12 13 14]]\n",
      "\n",
      " [[15 16 17 18 19]\n",
      "  [20 21 22 23 24]\n",
      "  [25 26 27 28 29]]]\n"
     ]
    }
   ],
   "source": [
    "a = np.arange(30)\n",
    "b = a.reshape((2, 3, -1))\n",
    "print(a)\n",
    "print()\n",
    "\n",
    "print(b)"
   ]
  },
  {
   "cell_type": "markdown",
   "id": "cdbc2d88-5ed4-47ef-bed0-d83a97ff05d4",
   "metadata": {},
   "source": [
    "Koden skapar först en array a med talen 0 till 29. Sedan formas arrayn om med .reshape((2, 3, -1)), vilket betyder att b får formen (2, 3, 5) d.v.s. en 3-dimensionell array, där första axeln (0) har 2 block, andra axeln (1) har 3 rader, och tredje axeln (2) har 5 kolumner. Argument -1 i reshape gör att NumPy automatiskt räknar ut det värdet utifrån det totala antalet element."
   ]
  },
  {
   "cell_type": "markdown",
   "id": "421c9607-819a-401d-949a-97424436fe29",
   "metadata": {},
   "source": [
    "# For the exercises below, read the document *\"matematik_yh_antonio_vektorer_matriser_utdrag\"*\n",
    "# Solutions to the exercises and recorded videos can be found here: https://github.com/AntonioPrgomet/matematik_foer_yh\n",
    "\n",
    "# If you find the exercises below very hard, do not worry. Try your best, that will be enough. "
   ]
  },
  {
   "cell_type": "markdown",
   "id": "ab5933d5",
   "metadata": {},
   "source": [
    "### Broadcasting\n",
    "**Read the following link about broadcasting: https://numpy.org/doc/stable/user/basics.broadcasting.html#basics-broadcasting**"
   ]
  },
  {
   "cell_type": "markdown",
   "id": "039805ba",
   "metadata": {},
   "source": [
    "# Remark on Broadcasting when doing Linear Algebra calculations in Python. "
   ]
  },
  {
   "cell_type": "markdown",
   "id": "c4bcc147",
   "metadata": {},
   "source": [
    "### From the mathematical rules of matrix addition, the operation below (m1 + m2) does not make sense. The reason is that matrix addition requires two matrices of the same size. In Python however, it works due to broadcasting rules in NumPy. So you must be careful when doing Linear Algebra calculations in Python since they do not follow the \"mathematical rules\". This can however easily be handled by doing some simple programming, for example validating that two matrices have the same shape is easy if you for instance want to add two matrices. "
   ]
  },
  {
   "cell_type": "code",
   "execution_count": 15,
   "id": "1fd46778",
   "metadata": {},
   "outputs": [
    {
     "name": "stdout",
     "output_type": "stream",
     "text": [
      "[[2 3]\n",
      " [4 5]]\n"
     ]
    }
   ],
   "source": [
    "m1 = np.array([[1, 2], [3, 4]])\n",
    "m2 = np.array([1, 1])\n",
    "print(m1 + m2)"
   ]
  },
  {
   "cell_type": "markdown",
   "id": "047d6576",
   "metadata": {},
   "source": [
    "### The example below would also not be allowed if following the \"mathematical rules\" in Linear Algebra. But it works due to broadcasting in NumPy. "
   ]
  },
  {
   "cell_type": "code",
   "execution_count": 16,
   "id": "5e6ef2e4",
   "metadata": {},
   "outputs": [
    {
     "name": "stdout",
     "output_type": "stream",
     "text": [
      "[2 3 4]\n"
     ]
    }
   ],
   "source": [
    "v1 = np.array([1, 2, 3])\n",
    "print(v1 + 1)"
   ]
  },
  {
   "cell_type": "code",
   "execution_count": 17,
   "id": "e2cbae26",
   "metadata": {},
   "outputs": [
    {
     "name": "stdout",
     "output_type": "stream",
     "text": [
      "[[1 2]\n",
      " [3 4]]\n",
      "[2 2]\n"
     ]
    }
   ],
   "source": [
    "A = np.arange(1, 5).reshape(2,2)\n",
    "print(A)\n",
    "\n",
    "b = np.array([2, 2])\n",
    "print(b)"
   ]
  },
  {
   "cell_type": "markdown",
   "id": "722fd5cd",
   "metadata": {},
   "source": [
    "# Vector- and matrix algebra Exercises"
   ]
  },
  {
   "cell_type": "markdown",
   "id": "b63a3081-d976-4d9f-bfd0-a63917e79f7d",
   "metadata": {},
   "source": [
    "**Now you are going to create a function that can be reused every time you add or multiply matrices. The function is created so that we do the addition and multiplication according to the rules of vector- and matrix algebra.**\n",
    "\n",
    "**Create a function \"add_mult_matrices\" that takes two matrices as input arguments (validate that the input are of the type numpy.ndarray by using the isinstance function), a third argument that is either 'add' or 'multiply' that specifies if you want to add or multiply the matrices (validate that the third argument is either 'add' or 'multiply'). When doing matrix addition, validate that the matrices have the same size. When doing matrix multiplication, validate that the sizes conform (i.e. number of columns in the first matrix is equal to the number of rows in the second matrix).**"
   ]
  },
  {
   "cell_type": "code",
   "execution_count": 18,
   "id": "3506f977-ac0a-473f-85bc-eec9f35dc498",
   "metadata": {},
   "outputs": [
    {
     "name": "stdout",
     "output_type": "stream",
     "text": [
      "Giltig addition:\n",
      "[[ 6  8]\n",
      " [10 12]]\n",
      "\n",
      "Ogiltig addition:\n",
      "Fel: Vid addition måste matriserna ha samma form.\n",
      "\n",
      "Giltig multiplikation:\n",
      "[[22 28]\n",
      " [49 64]]\n",
      "\n",
      "Ogiltig multiplikation:\n",
      "Fel: Vid multiplikation måste kolumnerna i första matrisen matcha raderna i andra.\n"
     ]
    }
   ],
   "source": [
    "def add_mult_matrices(m1, m2, operation):\n",
    "    # Kontrollera att båda indata är NumPy-arrayer\n",
    "    if not isinstance(m1, np.ndarray) or not isinstance(m2, np.ndarray):\n",
    "        raise TypeError(\"Båda indata måste vara NumPy-arrayer.\")\n",
    "\n",
    "    # Kontrollera att operationen är giltig ('add' eller 'multiply')\n",
    "    if operation not in ['add', 'multiply']:\n",
    "        raise ValueError(\"Operationen måste vara 'add' eller 'multiply'.\")\n",
    "\n",
    "    if operation == 'add':\n",
    "        # Vid addition måste matriserna ha exakt samma form\n",
    "        if m1.shape != m2.shape:\n",
    "            raise ValueError(\"Vid addition måste matriserna ha samma form.\")\n",
    "        return m1 + m2\n",
    "\n",
    "    if operation == 'multiply':\n",
    "        # Vid multiplikation måste antalet kolumner i m1 matcha antalet rader i m2\n",
    "        if m1.shape[1] != m2.shape[0]:\n",
    "            raise ValueError(\"Vid multiplikation måste kolumnerna i första matrisen matcha raderna i andra.\")\n",
    "        return m1 @ m2  # Matrisprodukt\n",
    "\n",
    "# Exempel 1: giltig addition (samma form)\n",
    "A = np.array([[1, 2], [3, 4]])\n",
    "B = np.array([[5, 6], [7, 8]])\n",
    "print(\"Giltig addition:\")\n",
    "print(add_mult_matrices(A, B, 'add'))\n",
    "\n",
    "# Exempel 2: ogiltig addition (olika form)\n",
    "A = np.array([[1, 2], [3, 4]])\n",
    "B = np.array([[1, 2, 3]])\n",
    "try:\n",
    "    print(\"\\nOgiltig addition:\")\n",
    "    print(add_mult_matrices(A, B, 'add'))\n",
    "except ValueError as e:\n",
    "    print(\"Fel:\", e)\n",
    "\n",
    "# Exempel 3: giltig multiplikation (2x3 * 3x2)\n",
    "A = np.array([[1, 2, 3], [4, 5, 6]])\n",
    "B = np.array([[1, 2], [3, 4], [5, 6]])\n",
    "print(\"\\nGiltig multiplikation:\")\n",
    "print(add_mult_matrices(A, B, 'multiply'))\n",
    "\n",
    "# Exempel 4: ogiltig multiplikation (formfel)\n",
    "A = np.array([[1, 2], [3, 4]])\n",
    "B = np.array([[1, 2]])\n",
    "try:\n",
    "    print(\"\\nOgiltig multiplikation:\")\n",
    "    print(add_mult_matrices(A, B, 'multiply'))\n",
    "except ValueError as e:\n",
    "    print(\"Fel:\", e)\n"
   ]
  },
  {
   "cell_type": "markdown",
   "id": "8dad82d0-2359-4dff-8f5b-a57d3e34103c",
   "metadata": {},
   "source": [
    "### Solve all the exercises in chapter 10.1 in the book \"Matematik för yrkeshögskolan\". "
   ]
  },
  {
   "cell_type": "code",
   "execution_count": 25,
   "id": "89df88af-3668-4d98-a0a4-e6d92eea0f89",
   "metadata": {},
   "outputs": [
    {
     "name": "stdout",
     "output_type": "stream",
     "text": [
      "### Uppgift 10.1.1\n",
      "(a) Dimension av x: (2,)\n",
      "(b) 5x: [20 15]\n",
      "(c) 3x: [12  9]\n",
      "(d) 5x + 3x: [32 24]\n",
      "(e) 8x: [32 24]\n",
      "(f) 4x - x: [12  9]\n",
      "(g) x.T: [4 3] Dimension: (2,)\n",
      "(h) Är x + x.T definierat? Ja\n",
      "(i) ||x||: 5.0\n",
      "\n",
      "### Uppgift 10.1.2\n",
      "(a) Dimension av v: (4,)\n",
      "(b) 2v: [ 6 14  0 22]\n",
      "(c) 5v + 2v: [21 49  0 77]\n",
      "(d) 4v - 2v: [ 6 14  0 22]\n",
      "(e) v.T: [ 3  7  0 11] Dimension: (4,)\n",
      "(f) ||v||: 13.379088160259652\n",
      "\n",
      " ### Uppgift 10.1.3\n",
      "(a) ||v1||: 7.14142842854285\n",
      "(b) ||v1 - v2||: 4.47213595499958\n"
     ]
    }
   ],
   "source": [
    "# ----------------------------\n",
    "# Uppgift 10.1.1 – Vektor x\n",
    "# ----------------------------\n",
    "print(\"### Uppgift 10.1.1\")\n",
    "\n",
    "x = np.array([4, 3])\n",
    "\n",
    "# (a) Dimension\n",
    "print(\"(a) Dimension av x:\", x.shape)\n",
    "\n",
    "# (b) 5x\n",
    "print(\"(b) 5x:\", 5 * x)\n",
    "\n",
    "# (c) 3x\n",
    "print(\"(c) 3x:\", 3 * x)\n",
    "\n",
    "# (d) 5x + 3x\n",
    "print(\"(d) 5x + 3x:\", 5 * x + 3 * x)\n",
    "\n",
    "# (e) 8x\n",
    "print(\"(e) 8x:\", 8 * x)\n",
    "\n",
    "# (f) 4x - x\n",
    "print(\"(f) 4x - x:\", 4 * x - x)\n",
    "\n",
    "# (g) Transponering av x\n",
    "x_T = x.T  # För 1D-array är transponeringen identisk\n",
    "print(\"(g) x.T:\", x_T, \"Dimension:\", x_T.shape)\n",
    "\n",
    "# (h) x + x.T definierat?\n",
    "print(\"(h) Är x + x.T definierat?\", \"Ja\" if x.shape == x_T.shape else \"Nej\")\n",
    "\n",
    "# (i) ||x||\n",
    "print(\"(i) ||x||:\", np.linalg.norm(x))\n",
    "\n",
    "\n",
    "# ----------------------------\n",
    "# Uppgift 10.1.2 – Vektor v\n",
    "# ----------------------------\n",
    "print(\"\\n### Uppgift 10.1.2\")\n",
    "\n",
    "v = np.array([3, 7, 0, 11])\n",
    "\n",
    "# (a) Dimension\n",
    "print(\"(a) Dimension av v:\", v.shape)\n",
    "\n",
    "# (b) 2v\n",
    "print(\"(b) 2v:\", 2 * v)\n",
    "\n",
    "# (c) 5v + 2v\n",
    "print(\"(c) 5v + 2v:\", 5 * v + 2 * v)\n",
    "\n",
    "# (d) 4v - 2v\n",
    "print(\"(d) 4v - 2v:\", 4 * v - 2 * v)\n",
    "\n",
    "# (e) Transponering av v\n",
    "v_T = v.T  # Även här: 1D-array transponering förändrar inget\n",
    "print(\"(e) v.T:\", v_T, \"Dimension:\", v_T.shape)\n",
    "\n",
    "# (f) ||v||\n",
    "print(\"(f) ||v||:\", np.linalg.norm(v))\n",
    "\n",
    "\n",
    "# ----------------------------\n",
    "# Uppgift 10.1.3 – Vektorer v1 och v2\n",
    "# ----------------------------\n",
    "print(\"\\n ### Uppgift 10.1.3\")\n",
    "\n",
    "v1 = np.array([4, 3, 1, 5])\n",
    "v2 = np.array([2, 3, 1, 1])\n",
    "\n",
    "# (a) ||v1||\n",
    "print(\"(a) ||v1||:\", np.linalg.norm(v1))\n",
    "\n",
    "# (b) ||v1 - v2||\n",
    "print(\"(b) ||v1 - v2||:\", np.linalg.norm(v1 - v2))\n"
   ]
  },
  {
   "cell_type": "markdown",
   "id": "75c98984-1f88-4df1-b850-d2466de444a5",
   "metadata": {},
   "source": [
    "### Solve all the exercises, except 10.2.4, in chapter 10.2 in the book \"Matematik för yrkeshögskolan\". "
   ]
  },
  {
   "cell_type": "code",
   "execution_count": 26,
   "id": "65371610-16e1-48b2-b7fb-65e49002608a",
   "metadata": {},
   "outputs": [
    {
     "name": "stdout",
     "output_type": "stream",
     "text": [
      "### Uppgift 10.2.1\n",
      "(a) 2A:\n",
      " [[ 4  2 -2]\n",
      " [ 2 -2  2]]\n",
      "\n",
      "(b) B - 2A:\n",
      " [[ 0 -4  3]\n",
      " [ 0 -2 -4]]\n",
      "\n",
      "(c) 3C - 2E:\n",
      " [[ 1  4]\n",
      " [ 2 -1]]\n",
      "\n",
      "(d) 2D - 3Cᵀ:\n",
      " [[3 2]\n",
      " [2 3]]\n",
      "\n",
      "(e) Dᵀ + 2D:\n",
      " [[ 9 12]\n",
      " [12  9]]\n",
      "\n",
      "(f) 2Cᵀ - 2Dᵀ:\n",
      " [[-4 -4]\n",
      " [-4 -4]]\n",
      "\n",
      "(g) Aᵀ - B: Ej definierat (former: (3, 2) och (2, 3) )\n",
      "\n",
      "(h) AC: Ej definierat – matmul: Input operand 1 has a mismatch in its core dimension 0, with gufunc signature (n?,k),(k,m?)->(n?,m?) (size 2 is different from 3)\n",
      "\n",
      "(i) CD:\n",
      " [[11 10]\n",
      " [10 11]]\n",
      "\n",
      "(j) CB: Ej definierat – matmul: Input operand 1 has a mismatch in its core dimension 0, with gufunc signature (n?,k),(k,m?)->(n?,m?) (size 3 is different from 2)\n",
      "\n",
      "(k) CI:\n",
      " [[1. 2.]\n",
      " [2. 1.]]\n",
      "\n",
      "(l) ABᵀ:\n",
      " [[5 2]\n",
      " [7 4]]\n",
      "\n",
      "### Uppgift 10.2.2\n",
      "AAᵀ:\n",
      " [[29 26]\n",
      " [26 42]]\n",
      "\n",
      "### Uppgift 10.2.3\n",
      "AB:\n",
      " [[ 4  7]\n",
      " [ 8 14]]\n",
      "AC:\n",
      " [[ 4  7]\n",
      " [ 8 14]]\n",
      "B == C: False\n",
      "AB == AC: True\n"
     ]
    }
   ],
   "source": [
    "# ----------------------------\n",
    "# Uppgift 10.2.1 – Matriser\n",
    "# ----------------------------\n",
    "print(\"### Uppgift 10.2.1\")\n",
    "\n",
    "A = np.array([[2, 1, -1], [1, -1, 1]])        # (2, 3)\n",
    "B = np.array([[4, -2, 1], [2, -4, -2]])       # (2, 3)\n",
    "C = np.array([[1, 2], [2, 1]])                # (2, 2)\n",
    "D = np.array([[3, 4], [4, 3]])                # (2, 2)\n",
    "E = np.array([[1], [2]])                      # (2, 1)\n",
    "I = np.identity(2)                            # (2, 2)\n",
    "\n",
    "print(\"(a) 2A:\\n\", 2 * A)\n",
    "print(\"\\n(b) B - 2A:\\n\", B - 2 * A)\n",
    "\n",
    "# Broadcasting mellan (2,2) och (2,1) fungerar\n",
    "print(\"\\n(c) 3C - 2E:\\n\", 3 * C - 2 * E)\n",
    "\n",
    "# C.T har form (2,2): kan subtraheras från D (också (2,2))\n",
    "print(\"\\n(d) 2D - 3Cᵀ:\\n\", 2 * D - 3 * C.T)\n",
    "\n",
    "print(\"\\n(e) Dᵀ + 2D:\\n\", D.T + 2 * D)\n",
    "print(\"\\n(f) 2Cᵀ - 2Dᵀ:\\n\", 2 * C.T - 2 * D.T)\n",
    "\n",
    "# Subtraktion mellan A.T (3,2) och B (2,3) är ej möjlig\n",
    "if A.T.shape != B.shape:\n",
    "    print(\"\\n(g) Aᵀ - B: Ej definierat (former:\", A.T.shape, \"och\", B.shape, \")\")\n",
    "else:\n",
    "    print(\"\\n(g) Aᵀ - B:\\n\", A.T - B)\n",
    "\n",
    "# Multiplikationer (kontrollera formkompatibilitet)\n",
    "def safe_matmul(label, M1, M2):\n",
    "    try:\n",
    "        result = M1 @ M2\n",
    "        print(f\"{label}:\\n\", result)\n",
    "    except ValueError as e:\n",
    "        print(f\"{label}: Ej definierat – {e}\")\n",
    "\n",
    "safe_matmul(\"\\n(h) AC\", A, C)\n",
    "safe_matmul(\"\\n(i) CD\", C, D)\n",
    "safe_matmul(\"\\n(j) CB\", C, B.T)  # C(2,2), B.T(3,2) → ej OK\n",
    "safe_matmul(\"\\n(k) CI\", C, I)\n",
    "safe_matmul(\"\\n(l) ABᵀ\", A, B.T)\n",
    "\n",
    "# ----------------------------\n",
    "# Uppgift 10.2.2 – AAᵀ\n",
    "# ----------------------------\n",
    "print(\"\\n### Uppgift 10.2.2\")\n",
    "\n",
    "A2 = np.array([[2, 3, 4], [5, 4, 1]])\n",
    "print(\"AAᵀ:\\n\", A2 @ A2.T)\n",
    "\n",
    "# ----------------------------\n",
    "# Uppgift 10.2.3 – Verifiera AB = AC men B ≠ C\n",
    "# ----------------------------\n",
    "print(\"\\n### Uppgift 10.2.3\")\n",
    "\n",
    "A3 = np.array([[1, 2], [2, 4]])\n",
    "B3 = np.array([[2, 1], [1, 3]])\n",
    "C3 = np.array([[4, 3], [0, 2]])\n",
    "\n",
    "AB = A3 @ B3\n",
    "AC = A3 @ C3\n",
    "\n",
    "print(\"AB:\\n\", AB)\n",
    "print(\"AC:\\n\", AC)\n",
    "print(\"B == C:\", np.array_equal(B3, C3))\n",
    "print(\"AB == AC:\", np.array_equal(AB, AC))\n"
   ]
  },
  {
   "cell_type": "code",
   "execution_count": 27,
   "id": "902eebc9-a6fe-42e9-88b7-055541158653",
   "metadata": {},
   "outputs": [
    {
     "name": "stdout",
     "output_type": "stream",
     "text": [
      "\n",
      "### Uppgift 10.2.4\n",
      "Lösning x:\n",
      " [ 2.13691417  4.83412322 -1.89152185]\n",
      "Ax =\n",
      " [ 8.51290153  3.64402317  7.70721432 10.33491311]\n",
      "Skillnad Ax - b:\n",
      " [ 1.51290153 -0.35597683 -3.29278568  1.33491311]\n"
     ]
    }
   ],
   "source": [
    "# ----------------------------\n",
    "# Uppgift 10.2.4 – Skriv på formen Ax = b och verifiera\n",
    "# ----------------------------\n",
    "print(\"\\n### Uppgift 10.2.4\")\n",
    "\n",
    "# Matris A med koefficienter\n",
    "A = np.array([\n",
    "    [3, 2, 4],\n",
    "    [2, 3, 8],\n",
    "    [4, 1, 3],\n",
    "    [7, 1, 5]\n",
    "])\n",
    "\n",
    "# Vektor b med högerled\n",
    "b = np.array([7, 4, 11, 9])\n",
    "\n",
    "# Kontroll: beräkna en godtycklig lösning med t.ex. np.linalg.lstsq (minsta kvadratmetoden)\n",
    "x, residuals, rank, s = np.linalg.lstsq(A, b, rcond=None)\n",
    "\n",
    "print(\"Lösning x:\\n\", x)\n",
    "\n",
    "# Verifiera att Ax ≈ b\n",
    "b_check = A @ x\n",
    "print(\"Ax =\\n\", b_check)\n",
    "\n",
    "# Skillnad (avrundningsfel bör vara små)\n",
    "print(\"Skillnad Ax - b:\\n\", b_check - b)\n"
   ]
  },
  {
   "cell_type": "markdown",
   "id": "6a4a524f",
   "metadata": {},
   "source": [
    "### Copies and Views\n",
    "Read the following link: https://numpy.org/doc/stable/user/basics.copies.html"
   ]
  },
  {
   "cell_type": "markdown",
   "id": "6cbbeaf7",
   "metadata": {},
   "source": [
    "**Basic indexing creates a view, How can you check if v1 and v2 is a view or copy? If you change the last element in v2 to 123, will the last element in v1 be changed? Why?**"
   ]
  },
  {
   "cell_type": "code",
   "execution_count": 28,
   "id": "5b9ef4df",
   "metadata": {},
   "outputs": [
    {
     "name": "stdout",
     "output_type": "stream",
     "text": [
      "[0 1 2 3]\n",
      "[2 3]\n"
     ]
    }
   ],
   "source": [
    "v1 = np.arange(4)\n",
    "v2 = v1[-2:]\n",
    "print(v1)\n",
    "print(v2)"
   ]
  },
  {
   "cell_type": "code",
   "execution_count": 29,
   "id": "d2440489",
   "metadata": {},
   "outputs": [
    {
     "name": "stdout",
     "output_type": "stream",
     "text": [
      "None\n",
      "[0 1 2 3]\n"
     ]
    }
   ],
   "source": [
    "# The base attribute of a view returns the original array while it returns None for a copy.\n",
    "print(v1.base)\n",
    "print(v2.base)"
   ]
  },
  {
   "cell_type": "code",
   "execution_count": 30,
   "id": "c8752807",
   "metadata": {},
   "outputs": [
    {
     "name": "stdout",
     "output_type": "stream",
     "text": [
      "[  0   1   2 123]\n",
      "[  2 123]\n"
     ]
    }
   ],
   "source": [
    "# The last element in v1 will be changed aswell since v2 is a view, meaning they share the same data buffer.\n",
    "v2[-1] = 123\n",
    "print(v1)\n",
    "print(v2)"
   ]
  },
  {
   "cell_type": "markdown",
   "id": "5311f491-12ae-47e6-90bb-80e51063bf97",
   "metadata": {},
   "source": [
    "Ja, det sista elementet i v1 ändras eftersom v2 är en vy av v1, inte en kopia.\n",
    "Man kan kontrollera detta med attributet .base. \n",
    "Om v2.base pekar på v1, betyder det att v2 delar samma minne som v1.\n",
    "När man använder vanlig slicing (t.ex. v1[-2:]) i NumPy skapas en vy, inte en kopia. \n",
    "Detta innebär att ändringar i v2 också påverkar v1, eftersom båda pekar på samma data i minnet."
   ]
  },
  {
   "cell_type": "code",
   "execution_count": null,
   "id": "28e2f881-0396-4f4c-b64d-b6631d05cdf2",
   "metadata": {},
   "outputs": [],
   "source": []
  }
 ],
 "metadata": {
  "kernelspec": {
   "display_name": "Python 3 (ipykernel)",
   "language": "python",
   "name": "python3"
  },
  "language_info": {
   "codemirror_mode": {
    "name": "ipython",
    "version": 3
   },
   "file_extension": ".py",
   "mimetype": "text/x-python",
   "name": "python",
   "nbconvert_exporter": "python",
   "pygments_lexer": "ipython3",
   "version": "3.12.3"
  }
 },
 "nbformat": 4,
 "nbformat_minor": 5
}
